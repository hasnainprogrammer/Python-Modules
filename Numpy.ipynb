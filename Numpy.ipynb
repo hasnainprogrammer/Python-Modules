{
 "cells": [
  {
   "cell_type": "markdown",
   "id": "b3520068",
   "metadata": {},
   "source": [
    "# Python Numpy"
   ]
  },
  {
   "cell_type": "code",
   "execution_count": 1,
   "id": "228ec8b8",
   "metadata": {},
   "outputs": [],
   "source": [
    "import numpy as np"
   ]
  },
  {
   "cell_type": "markdown",
   "id": "9a40246b",
   "metadata": {},
   "source": [
    "# One Dimensional Array "
   ]
  },
  {
   "cell_type": "code",
   "execution_count": 2,
   "id": "40a447d7",
   "metadata": {},
   "outputs": [],
   "source": [
    "arr = np.array([1,2,3],dtype='f')"
   ]
  },
  {
   "cell_type": "code",
   "execution_count": 3,
   "id": "cbece412",
   "metadata": {},
   "outputs": [
    {
     "data": {
      "text/plain": [
       "array([1., 2., 3.], dtype=float32)"
      ]
     },
     "execution_count": 3,
     "metadata": {},
     "output_type": "execute_result"
    }
   ],
   "source": [
    "arr"
   ]
  },
  {
   "cell_type": "code",
   "execution_count": 4,
   "id": "05dc1459",
   "metadata": {},
   "outputs": [
    {
     "data": {
      "text/plain": [
       "3.0"
      ]
     },
     "execution_count": 4,
     "metadata": {},
     "output_type": "execute_result"
    }
   ],
   "source": [
    "arr[2]"
   ]
  },
  {
   "cell_type": "code",
   "execution_count": 5,
   "id": "c9e62817",
   "metadata": {},
   "outputs": [
    {
     "data": {
      "text/plain": [
       "dtype('float32')"
      ]
     },
     "execution_count": 5,
     "metadata": {},
     "output_type": "execute_result"
    }
   ],
   "source": [
    "arr.dtype"
   ]
  },
  {
   "cell_type": "code",
   "execution_count": 44,
   "id": "9388483a",
   "metadata": {},
   "outputs": [
    {
     "data": {
      "text/plain": [
       "1"
      ]
     },
     "execution_count": 44,
     "metadata": {},
     "output_type": "execute_result"
    }
   ],
   "source": [
    "arr.ndim"
   ]
  },
  {
   "cell_type": "markdown",
   "id": "9fb5752f",
   "metadata": {},
   "source": [
    "# Two Dimesional Array"
   ]
  },
  {
   "cell_type": "code",
   "execution_count": 7,
   "id": "d1e5352f",
   "metadata": {},
   "outputs": [],
   "source": [
    "myarr = np.array([[1,2,3],[4,5,6],[7,8,9]])"
   ]
  },
  {
   "cell_type": "code",
   "execution_count": 8,
   "id": "f38bbe03",
   "metadata": {},
   "outputs": [
    {
     "data": {
      "text/plain": [
       "array([[1, 2, 3],\n",
       "       [4, 5, 6],\n",
       "       [7, 8, 9]])"
      ]
     },
     "execution_count": 8,
     "metadata": {},
     "output_type": "execute_result"
    }
   ],
   "source": [
    "myarr"
   ]
  },
  {
   "cell_type": "markdown",
   "id": "224c1bc0",
   "metadata": {},
   "source": [
    "**dtype**: Return the data type of the array."
   ]
  },
  {
   "cell_type": "code",
   "execution_count": 9,
   "id": "ab73b3bd",
   "metadata": {},
   "outputs": [
    {
     "data": {
      "text/plain": [
       "dtype('int32')"
      ]
     },
     "execution_count": 9,
     "metadata": {},
     "output_type": "execute_result"
    }
   ],
   "source": [
    "myarr.dtype"
   ]
  },
  {
   "cell_type": "markdown",
   "id": "b238637e",
   "metadata": {},
   "source": [
    "**size**: Return the total number of elements in the array."
   ]
  },
  {
   "cell_type": "code",
   "execution_count": 10,
   "id": "9f11861e",
   "metadata": {},
   "outputs": [
    {
     "data": {
      "text/plain": [
       "9"
      ]
     },
     "execution_count": 10,
     "metadata": {},
     "output_type": "execute_result"
    }
   ],
   "source": [
    "myarr.size"
   ]
  },
  {
   "cell_type": "code",
   "execution_count": 11,
   "id": "fa818f89",
   "metadata": {},
   "outputs": [
    {
     "data": {
      "text/plain": [
       "5"
      ]
     },
     "execution_count": 11,
     "metadata": {},
     "output_type": "execute_result"
    }
   ],
   "source": [
    "myarr[1,1]"
   ]
  },
  {
   "cell_type": "markdown",
   "id": "074a1535",
   "metadata": {},
   "source": [
    "**shape**: Return a tuple of rows and columns."
   ]
  },
  {
   "cell_type": "code",
   "execution_count": 12,
   "id": "18991f58",
   "metadata": {},
   "outputs": [
    {
     "data": {
      "text/plain": [
       "(3, 3)"
      ]
     },
     "execution_count": 12,
     "metadata": {},
     "output_type": "execute_result"
    }
   ],
   "source": [
    "myarr.shape"
   ]
  },
  {
   "cell_type": "code",
   "execution_count": 13,
   "id": "d122cdbb",
   "metadata": {},
   "outputs": [
    {
     "data": {
      "text/plain": [
       "8"
      ]
     },
     "execution_count": 13,
     "metadata": {},
     "output_type": "execute_result"
    }
   ],
   "source": [
    "myarr.argmax()"
   ]
  },
  {
   "cell_type": "markdown",
   "id": "676db625",
   "metadata": {},
   "source": [
    "**armax()**:Return the index of the highest integer.\n",
    "\n",
    "**argmin()**:Return the index of the lowest integer."
   ]
  },
  {
   "cell_type": "code",
   "execution_count": 14,
   "id": "836166fd",
   "metadata": {},
   "outputs": [
    {
     "data": {
      "text/plain": [
       "0"
      ]
     },
     "execution_count": 14,
     "metadata": {},
     "output_type": "execute_result"
    }
   ],
   "source": [
    "myarr.argmin()"
   ]
  },
  {
   "cell_type": "markdown",
   "id": "bb7723a0",
   "metadata": {},
   "source": [
    "**max()**: Return the maximum number in the array."
   ]
  },
  {
   "cell_type": "code",
   "execution_count": 15,
   "id": "5c1348ec",
   "metadata": {},
   "outputs": [
    {
     "data": {
      "text/plain": [
       "9"
      ]
     },
     "execution_count": 15,
     "metadata": {},
     "output_type": "execute_result"
    }
   ],
   "source": [
    "myarr.max()"
   ]
  },
  {
   "cell_type": "markdown",
   "id": "afaf41da",
   "metadata": {},
   "source": [
    "**min()**: Return the minimum number in the array."
   ]
  },
  {
   "cell_type": "code",
   "execution_count": 16,
   "id": "a6b30217",
   "metadata": {},
   "outputs": [
    {
     "data": {
      "text/plain": [
       "1"
      ]
     },
     "execution_count": 16,
     "metadata": {},
     "output_type": "execute_result"
    }
   ],
   "source": [
    "myarr.min()"
   ]
  },
  {
   "cell_type": "markdown",
   "id": "4ed995df",
   "metadata": {},
   "source": [
    "**reshape()**: Reshape the origional list,e.g: columns and rows."
   ]
  },
  {
   "cell_type": "code",
   "execution_count": 17,
   "id": "b7245076",
   "metadata": {},
   "outputs": [
    {
     "data": {
      "text/plain": [
       "array([[1, 2, 3],\n",
       "       [4, 5, 6],\n",
       "       [7, 8, 9]])"
      ]
     },
     "execution_count": 17,
     "metadata": {},
     "output_type": "execute_result"
    }
   ],
   "source": [
    "myarr.reshape(3,3)"
   ]
  },
  {
   "cell_type": "markdown",
   "id": "df6a07f2",
   "metadata": {},
   "source": [
    "**Adding Two Arrays**: You can add two arrays in numpy unlike list of python which concatenate the list."
   ]
  },
  {
   "cell_type": "code",
   "execution_count": 35,
   "id": "a3f3b0b7",
   "metadata": {},
   "outputs": [],
   "source": [
    "a1 = np.array([1,2,3])"
   ]
  },
  {
   "cell_type": "code",
   "execution_count": 36,
   "id": "250971c1",
   "metadata": {},
   "outputs": [],
   "source": [
    "a2 = np.array([4,5,6])"
   ]
  },
  {
   "cell_type": "code",
   "execution_count": 37,
   "id": "83f09f76",
   "metadata": {},
   "outputs": [
    {
     "data": {
      "text/plain": [
       "array([5, 7, 9])"
      ]
     },
     "execution_count": 37,
     "metadata": {},
     "output_type": "execute_result"
    }
   ],
   "source": [
    "a1 + a2"
   ]
  },
  {
   "cell_type": "code",
   "execution_count": 38,
   "id": "66bdaee3",
   "metadata": {},
   "outputs": [],
   "source": [
    "myarr = np.array([[1,2,3],[4,5,6],[7,8,9]])"
   ]
  },
  {
   "cell_type": "markdown",
   "id": "eb934c73",
   "metadata": {},
   "source": [
    "# Views and Copy"
   ]
  },
  {
   "cell_type": "markdown",
   "id": "f8363abe",
   "metadata": {},
   "source": [
    "**Copy**: Return a copy no changing will be made if the origional file change and vice versa.\n",
    "\n",
    "\n",
    "**View**:If changes occur in the origional file or vice versa then changes will be occured in the view also."
   ]
  },
  {
   "cell_type": "code",
   "execution_count": 55,
   "id": "02ac2e86",
   "metadata": {},
   "outputs": [
    {
     "name": "stdout",
     "output_type": "stream",
     "text": [
      "[10  2  3]\n",
      "[1 2 3]\n"
     ]
    }
   ],
   "source": [
    "ar = np.array([1,2,3])\n",
    "c = ar.copy()\n",
    "ar[0] = 10\n",
    "print(ar)\n",
    "print(c)"
   ]
  },
  {
   "cell_type": "code",
   "execution_count": 57,
   "id": "7096d95a",
   "metadata": {},
   "outputs": [
    {
     "name": "stdout",
     "output_type": "stream",
     "text": [
      "[10 20  3]\n",
      "[10 20  3]\n"
     ]
    }
   ],
   "source": [
    "ar = np.array([1,2,3])\n",
    "v = ar.view()\n",
    "ar[0] = 10\n",
    "v[1] = 20\n",
    "print(ar)\n",
    "print(v)"
   ]
  },
  {
   "cell_type": "code",
   "execution_count": 59,
   "id": "b01dd920",
   "metadata": {},
   "outputs": [
    {
     "data": {
      "text/plain": [
       "array([[1, 2, 3],\n",
       "       [4, 5, 6],\n",
       "       [7, 8, 9]])"
      ]
     },
     "execution_count": 59,
     "metadata": {},
     "output_type": "execute_result"
    }
   ],
   "source": [
    "myarr"
   ]
  },
  {
   "cell_type": "markdown",
   "id": "16946740",
   "metadata": {},
   "source": [
    "**T**: Reverse the rows and columns."
   ]
  },
  {
   "cell_type": "code",
   "execution_count": 60,
   "id": "ebeb9edf",
   "metadata": {},
   "outputs": [
    {
     "data": {
      "text/plain": [
       "array([[1, 4, 7],\n",
       "       [2, 5, 8],\n",
       "       [3, 6, 9]])"
      ]
     },
     "execution_count": 60,
     "metadata": {},
     "output_type": "execute_result"
    }
   ],
   "source": [
    "myarr.T"
   ]
  },
  {
   "cell_type": "markdown",
   "id": "4db06be6",
   "metadata": {},
   "source": [
    "**Looping through the array**"
   ]
  },
  {
   "cell_type": "code",
   "execution_count": 64,
   "id": "135f1da9",
   "metadata": {},
   "outputs": [
    {
     "name": "stdout",
     "output_type": "stream",
     "text": [
      "1\n",
      "2\n",
      "3\n"
     ]
    }
   ],
   "source": [
    "one_dim = np.array([1,2,3])\n",
    "for i in one_dim:\n",
    "    print(i)"
   ]
  },
  {
   "cell_type": "code",
   "execution_count": 67,
   "id": "966e8ec1",
   "metadata": {},
   "outputs": [
    {
     "name": "stdout",
     "output_type": "stream",
     "text": [
      "1\n",
      "2\n",
      "3\n",
      "4\n",
      "5\n",
      "6\n"
     ]
    }
   ],
   "source": [
    "two_dim = np.array([[1,2,3],[4,5,6]])\n",
    "for i in two_dim:\n",
    "#     print(i)\n",
    "    for j in i:\n",
    "        print(j)"
   ]
  },
  {
   "cell_type": "markdown",
   "id": "88587eb5",
   "metadata": {},
   "source": [
    "**--> You can also return a specific elements from the array based on some condition**"
   ]
  },
  {
   "cell_type": "code",
   "execution_count": 2,
   "id": "9442f30c",
   "metadata": {},
   "outputs": [],
   "source": [
    "arr = np.arange(10)"
   ]
  },
  {
   "cell_type": "code",
   "execution_count": 3,
   "id": "cb89fc43",
   "metadata": {},
   "outputs": [
    {
     "data": {
      "text/plain": [
       "array([0, 1, 2, 3, 4, 5, 6, 7, 8, 9])"
      ]
     },
     "execution_count": 3,
     "metadata": {},
     "output_type": "execute_result"
    }
   ],
   "source": [
    "arr"
   ]
  },
  {
   "cell_type": "code",
   "execution_count": 5,
   "id": "b7f5f28a",
   "metadata": {},
   "outputs": [
    {
     "data": {
      "text/plain": [
       "array([6, 7, 8, 9])"
      ]
     },
     "execution_count": 5,
     "metadata": {},
     "output_type": "execute_result"
    }
   ],
   "source": [
    "arr[arr>5]"
   ]
  },
  {
   "cell_type": "code",
   "execution_count": 6,
   "id": "7f487c54",
   "metadata": {},
   "outputs": [
    {
     "data": {
      "text/plain": [
       "array([7])"
      ]
     },
     "execution_count": 6,
     "metadata": {},
     "output_type": "execute_result"
    }
   ],
   "source": [
    "arr[arr == 7]"
   ]
  },
  {
   "cell_type": "code",
   "execution_count": null,
   "id": "bc13e40d",
   "metadata": {},
   "outputs": [],
   "source": []
  }
 ],
 "metadata": {
  "kernelspec": {
   "display_name": "Python 3 (ipykernel)",
   "language": "python",
   "name": "python3"
  },
  "language_info": {
   "codemirror_mode": {
    "name": "ipython",
    "version": 3
   },
   "file_extension": ".py",
   "mimetype": "text/x-python",
   "name": "python",
   "nbconvert_exporter": "python",
   "pygments_lexer": "ipython3",
   "version": "3.10.4"
  }
 },
 "nbformat": 4,
 "nbformat_minor": 5
}
